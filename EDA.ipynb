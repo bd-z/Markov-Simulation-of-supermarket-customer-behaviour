{
 "cells": [
  {
   "cell_type": "markdown",
   "id": "049a2d44",
   "metadata": {},
   "source": [
    "# Exploration data analysis of the historical supermarket customer data"
   ]
  },
  {
   "cell_type": "markdown",
   "id": "ed32da9a",
   "metadata": {},
   "source": [
    "## Define the function to concate the full data and preprocess"
   ]
  },
  {
   "cell_type": "code",
   "execution_count": 17,
   "id": "b7b48a86",
   "metadata": {},
   "outputs": [],
   "source": [
    "import pandas as pd\n",
    "import os\n",
    "import seaborn as sns\n",
    "import matplotlib.pyplot as plt "
   ]
  },
  {
   "cell_type": "code",
   "execution_count": 16,
   "id": "f3c6cb1a",
   "metadata": {},
   "outputs": [],
   "source": [
    "\n",
    "\n",
    "def  prepro_data(filepath):\n",
    "    import os\n",
    "    # list all the files in the folder\n",
    "    f=os.listdir(filepath)\n",
    "    dff=pd.DataFrame(columns=['timestamp', 'location', 'customer_id'])\n",
    "    for i in f:\n",
    "        df=pd.read_csv(f'./data/{i}',delimiter=';',parse_dates=True)\n",
    "        #change timestamp to datatime\n",
    "        df['timestamp'] = pd.to_datetime(df['timestamp'])\n",
    "        #set timestamp as index\n",
    "        df.set_index('timestamp',drop=True, inplace=True)\n",
    "        df['day']=df.index.day\n",
    "        #change data type of customer_no\n",
    "        df[['customer_no','day']]=df[['customer_no','day']].astype('string')\n",
    "        #generate uni customer_id for every customer in 5 days.\n",
    "        df['customer_id']=df['day']+df['customer_no']\n",
    "        df.drop(['customer_no','day'],axis=1, inplace =True)\n",
    "        df.reset_index(inplace=True)\n",
    "        dff=pd.concat([dff,df])\n",
    "    dff.set_index('timestamp',drop=True, inplace=True)\n",
    "    return dff"
   ]
  },
  {
   "cell_type": "code",
   "execution_count": 5,
   "id": "d8eecc40",
   "metadata": {},
   "outputs": [],
   "source": [
    "#concate the full data and preprocess\n",
    "\n",
    "filepath = './data/'\n",
    "df=prepro_data(filepath)"
   ]
  },
  {
   "cell_type": "code",
   "execution_count": 7,
   "id": "64d0b9b3",
   "metadata": {},
   "outputs": [],
   "source": [
    "#add new columns 'hour', 'day'\n",
    "df['day']=df.index.day\n",
    "df['hour']=df.index.hour"
   ]
  },
  {
   "cell_type": "markdown",
   "id": "16db6565",
   "metadata": {},
   "source": [
    "## Calculate the total number of customers in each section"
   ]
  },
  {
   "cell_type": "code",
   "execution_count": 8,
   "id": "10b090f9",
   "metadata": {},
   "outputs": [
    {
     "name": "stderr",
     "output_type": "stream",
     "text": [
      "<ipython-input-8-e6aa90f2d49d>:4: FutureWarning: Indexing with multiple keys (implicitly converted to a tuple of keys) will be deprecated, use a list instead.\n",
      "  df_g_l=df.groupby('location')['day','hour','customer_id'].count()\n"
     ]
    }
   ],
   "source": [
    "\n",
    "#example of groupby function: df.groupby(\"Sex\").agg({\"Survived\":np.sum, \"Age\":np.mean, \"Fare\":np.mean})\n",
    "#task 1 method a)\n",
    "df_g_l=df.groupby('location')['day','hour','customer_id'].count()"
   ]
  },
  {
   "cell_type": "code",
   "execution_count": 10,
   "id": "f0e755df",
   "metadata": {},
   "outputs": [
    {
     "data": {
      "text/html": [
       "<div>\n",
       "<style scoped>\n",
       "    .dataframe tbody tr th:only-of-type {\n",
       "        vertical-align: middle;\n",
       "    }\n",
       "\n",
       "    .dataframe tbody tr th {\n",
       "        vertical-align: top;\n",
       "    }\n",
       "\n",
       "    .dataframe thead th {\n",
       "        text-align: right;\n",
       "    }\n",
       "</style>\n",
       "<table border=\"1\" class=\"dataframe\">\n",
       "  <thead>\n",
       "    <tr style=\"text-align: right;\">\n",
       "      <th></th>\n",
       "      <th>day</th>\n",
       "      <th>hour</th>\n",
       "      <th>customer_id</th>\n",
       "    </tr>\n",
       "    <tr>\n",
       "      <th>location</th>\n",
       "      <th></th>\n",
       "      <th></th>\n",
       "      <th></th>\n",
       "    </tr>\n",
       "  </thead>\n",
       "  <tbody>\n",
       "    <tr>\n",
       "      <th>checkout</th>\n",
       "      <td>7417</td>\n",
       "      <td>7417</td>\n",
       "      <td>7417</td>\n",
       "    </tr>\n",
       "    <tr>\n",
       "      <th>dairy</th>\n",
       "      <td>4679</td>\n",
       "      <td>4679</td>\n",
       "      <td>4679</td>\n",
       "    </tr>\n",
       "    <tr>\n",
       "      <th>drinks</th>\n",
       "      <td>3905</td>\n",
       "      <td>3905</td>\n",
       "      <td>3905</td>\n",
       "    </tr>\n",
       "    <tr>\n",
       "      <th>fruit</th>\n",
       "      <td>5122</td>\n",
       "      <td>5122</td>\n",
       "      <td>5122</td>\n",
       "    </tr>\n",
       "    <tr>\n",
       "      <th>spices</th>\n",
       "      <td>3754</td>\n",
       "      <td>3754</td>\n",
       "      <td>3754</td>\n",
       "    </tr>\n",
       "  </tbody>\n",
       "</table>\n",
       "</div>"
      ],
      "text/plain": [
       "           day  hour  customer_id\n",
       "location                         \n",
       "checkout  7417  7417         7417\n",
       "dairy     4679  4679         4679\n",
       "drinks    3905  3905         3905\n",
       "fruit     5122  5122         5122\n",
       "spices    3754  3754         3754"
      ]
     },
     "execution_count": 10,
     "metadata": {},
     "output_type": "execute_result"
    }
   ],
   "source": [
    "df_g_l\n",
    "\n"
   ]
  },
  {
   "cell_type": "markdown",
   "id": "a1549a16",
   "metadata": {},
   "source": [
    "##  Show the total number of customers in each section over time"
   ]
  },
  {
   "cell_type": "code",
   "execution_count": 15,
   "id": "ce9ea1b2",
   "metadata": {},
   "outputs": [
    {
     "name": "stderr",
     "output_type": "stream",
     "text": [
      "<ipython-input-15-ff5dee84fe6f>:1: FutureWarning: Indexing with multiple keys (implicitly converted to a tuple of keys) will be deprecated, use a list instead.\n",
      "  df_g_l_t=df.groupby(['location','hour'])['customer_id','day'].count()\n"
     ]
    }
   ],
   "source": [
    "df_g_l_t=df.groupby(['location','hour'])['customer_id','day'].count()"
   ]
  },
  {
   "cell_type": "code",
   "execution_count": 18,
   "id": "172499cb",
   "metadata": {},
   "outputs": [
    {
     "data": {
      "image/png": "[encoded data removed]",
      "text/plain": [
       "<Figure size 576x432 with 1 Axes>"
      ]
     },
     "metadata": {
      "needs_background": "light"
     },
     "output_type": "display_data"
    }
   ],
   "source": [
    "\n",
    "#from matplotlib.pyplot import figure\n",
    "\n",
    "fig, ax=plt.subplots(figsize=(8, 6))\n",
    "\n",
    "# fig = plt.figure(figsize=(8, 6))\n",
    "ax.spines['top'].set_visible(False)\n",
    "ax.spines['right'].set_visible(False)\n",
    "\n",
    "plt.xlabel('Hour', fontsize=20)\n",
    "plt.ylabel('Total customer', fontsize=20)\n",
    "\n",
    "\n",
    "\n",
    "#figure(figsize=(12, 10), dpi=80)\n",
    "plt.title('Total number of customers in each section over time',fontsize=20)\n",
    "\n",
    "sns.lineplot(x='hour',y='customer_id',hue='location',data=df_g_l_t)\n",
    "#plt.axis('off')\n",
    "plt.show()"
   ]
  },
  {
   "cell_type": "markdown",
   "id": "a6b2c97f",
   "metadata": {},
   "source": [
    "## Plot total number of customers in the supermarket over time"
   ]
  },
  {
   "cell_type": "code",
   "execution_count": 22,
   "id": "3c8f5e1e",
   "metadata": {},
   "outputs": [
    {
     "data": {
      "text/plain": [
       "Text(0.5, 1.0, 'Total number of customers in supermarket over time')"
      ]
     },
     "execution_count": 22,
     "metadata": {},
     "output_type": "execute_result"
    },
    {
     "data": {
      "image/png": "[encoded data removed]",
      "text/plain": [
       "<Figure size 576x432 with 1 Axes>"
      ]
     },
     "metadata": {
      "needs_background": "light"
     },
     "output_type": "display_data"
    }
   ],
   "source": [
    "df_subset=df.groupby(df.index)['customer_id'].count()\n",
    "df_subset=pd.DataFrame(df_subset)\n",
    "#plot the picture\n",
    "fig, ax=plt.subplots(figsize=(8, 6))\n",
    "ax.spines['top'].set_visible(False)\n",
    "ax.spines['right'].set_visible(False)\n",
    "sns.lineplot(x='timestamp',y='customer_id', data=df_subset)\n",
    "plt.title('Total number of customers in supermarket over time',fontsize=20)"
   ]
  },
  {
   "cell_type": "markdown",
   "id": "f4547bcb",
   "metadata": {},
   "source": [
    "## calculation the transition probablity"
   ]
  },
  {
   "cell_type": "code",
   "execution_count": 24,
   "id": "84111a5b",
   "metadata": {},
   "outputs": [
    {
     "data": {
      "text/html": [
       "<div>\n",
       "<style scoped>\n",
       "    .dataframe tbody tr th:only-of-type {\n",
       "        vertical-align: middle;\n",
       "    }\n",
       "\n",
       "    .dataframe tbody tr th {\n",
       "        vertical-align: top;\n",
       "    }\n",
       "\n",
       "    .dataframe thead th {\n",
       "        text-align: right;\n",
       "    }\n",
       "</style>\n",
       "<table border=\"1\" class=\"dataframe\">\n",
       "  <thead>\n",
       "    <tr style=\"text-align: right;\">\n",
       "      <th></th>\n",
       "      <th></th>\n",
       "      <th>location</th>\n",
       "      <th>customer_id</th>\n",
       "      <th>day</th>\n",
       "      <th>hour</th>\n",
       "    </tr>\n",
       "    <tr>\n",
       "      <th>customer_id</th>\n",
       "      <th>timestamp</th>\n",
       "      <th></th>\n",
       "      <th></th>\n",
       "      <th></th>\n",
       "      <th></th>\n",
       "    </tr>\n",
       "  </thead>\n",
       "  <tbody>\n",
       "    <tr>\n",
       "      <th rowspan=\"3\" valign=\"top\">21</th>\n",
       "      <th>2019-09-02 07:03:00</th>\n",
       "      <td>dairy</td>\n",
       "      <td>21</td>\n",
       "      <td>2</td>\n",
       "      <td>7</td>\n",
       "    </tr>\n",
       "    <tr>\n",
       "      <th>2019-09-02 07:04:00</th>\n",
       "      <td>dairy</td>\n",
       "      <td>21</td>\n",
       "      <td>2</td>\n",
       "      <td>7</td>\n",
       "    </tr>\n",
       "    <tr>\n",
       "      <th>2019-09-02 07:05:00</th>\n",
       "      <td>checkout</td>\n",
       "      <td>21</td>\n",
       "      <td>2</td>\n",
       "      <td>7</td>\n",
       "    </tr>\n",
       "    <tr>\n",
       "      <th rowspan=\"2\" valign=\"top\">210</th>\n",
       "      <th>2019-09-02 07:06:00</th>\n",
       "      <td>fruit</td>\n",
       "      <td>210</td>\n",
       "      <td>2</td>\n",
       "      <td>7</td>\n",
       "    </tr>\n",
       "    <tr>\n",
       "      <th>2019-09-02 07:07:00</th>\n",
       "      <td>fruit</td>\n",
       "      <td>210</td>\n",
       "      <td>2</td>\n",
       "      <td>7</td>\n",
       "    </tr>\n",
       "    <tr>\n",
       "      <th>...</th>\n",
       "      <th>...</th>\n",
       "      <td>...</td>\n",
       "      <td>...</td>\n",
       "      <td>...</td>\n",
       "      <td>...</td>\n",
       "    </tr>\n",
       "    <tr>\n",
       "      <th rowspan=\"5\" valign=\"top\">6999</th>\n",
       "      <th>2019-09-06 17:23:00</th>\n",
       "      <td>fruit</td>\n",
       "      <td>6999</td>\n",
       "      <td>6</td>\n",
       "      <td>17</td>\n",
       "    </tr>\n",
       "    <tr>\n",
       "      <th>2019-09-06 17:24:00</th>\n",
       "      <td>drinks</td>\n",
       "      <td>6999</td>\n",
       "      <td>6</td>\n",
       "      <td>17</td>\n",
       "    </tr>\n",
       "    <tr>\n",
       "      <th>2019-09-06 17:25:00</th>\n",
       "      <td>fruit</td>\n",
       "      <td>6999</td>\n",
       "      <td>6</td>\n",
       "      <td>17</td>\n",
       "    </tr>\n",
       "    <tr>\n",
       "      <th>2019-09-06 17:26:00</th>\n",
       "      <td>fruit</td>\n",
       "      <td>6999</td>\n",
       "      <td>6</td>\n",
       "      <td>17</td>\n",
       "    </tr>\n",
       "    <tr>\n",
       "      <th>2019-09-06 17:27:00</th>\n",
       "      <td>checkout</td>\n",
       "      <td>6999</td>\n",
       "      <td>6</td>\n",
       "      <td>17</td>\n",
       "    </tr>\n",
       "  </tbody>\n",
       "</table>\n",
       "<p>53903 rows × 4 columns</p>\n",
       "</div>"
      ],
      "text/plain": [
       "                                 location customer_id  day  hour\n",
       "customer_id timestamp                                           \n",
       "21          2019-09-02 07:03:00     dairy          21    2     7\n",
       "            2019-09-02 07:04:00     dairy          21    2     7\n",
       "            2019-09-02 07:05:00  checkout          21    2     7\n",
       "210         2019-09-02 07:06:00     fruit         210    2     7\n",
       "            2019-09-02 07:07:00     fruit         210    2     7\n",
       "...                                   ...         ...  ...   ...\n",
       "6999        2019-09-06 17:23:00     fruit        6999    6    17\n",
       "            2019-09-06 17:24:00    drinks        6999    6    17\n",
       "            2019-09-06 17:25:00     fruit        6999    6    17\n",
       "            2019-09-06 17:26:00     fruit        6999    6    17\n",
       "            2019-09-06 17:27:00  checkout        6999    6    17\n",
       "\n",
       "[53903 rows x 4 columns]"
      ]
     },
     "execution_count": 24,
     "metadata": {},
     "output_type": "execute_result"
    }
   ],
   "source": [
    "# resample changes the index - same as groupby\n",
    "# but we have to add an operation - same as groupby\n",
    "df_full = df.groupby('customer_id').resample('1min').fillna('ffill')\n",
    "df_full"
   ]
  },
  {
   "cell_type": "code",
   "execution_count": 26,
   "id": "49d229ff",
   "metadata": {},
   "outputs": [],
   "source": [
    "df_full['after'] = df_full['location'].shift(-1)\n",
    "# there is time overlap between customers, but this problem is solved with ct_pro['checkout'] = [1.0, 0.0, 0.0, 0.0, 0.0]"
   ]
  },
  {
   "cell_type": "code",
   "execution_count": 27,
   "id": "f53f067e",
   "metadata": {},
   "outputs": [
    {
     "data": {
      "text/html": [
       "<div>\n",
       "<style scoped>\n",
       "    .dataframe tbody tr th:only-of-type {\n",
       "        vertical-align: middle;\n",
       "    }\n",
       "\n",
       "    .dataframe tbody tr th {\n",
       "        vertical-align: top;\n",
       "    }\n",
       "\n",
       "    .dataframe thead th {\n",
       "        text-align: right;\n",
       "    }\n",
       "</style>\n",
       "<table border=\"1\" class=\"dataframe\">\n",
       "  <thead>\n",
       "    <tr style=\"text-align: right;\">\n",
       "      <th>location</th>\n",
       "      <th>checkout</th>\n",
       "      <th>dairy</th>\n",
       "      <th>drinks</th>\n",
       "      <th>fruit</th>\n",
       "      <th>spices</th>\n",
       "    </tr>\n",
       "    <tr>\n",
       "      <th>after</th>\n",
       "      <th></th>\n",
       "      <th></th>\n",
       "      <th></th>\n",
       "      <th></th>\n",
       "      <th></th>\n",
       "    </tr>\n",
       "  </thead>\n",
       "  <tbody>\n",
       "    <tr>\n",
       "      <th>checkout</th>\n",
       "      <td>0</td>\n",
       "      <td>1825</td>\n",
       "      <td>2096</td>\n",
       "      <td>2555</td>\n",
       "      <td>941</td>\n",
       "    </tr>\n",
       "    <tr>\n",
       "      <th>dairy</th>\n",
       "      <td>2132</td>\n",
       "      <td>13100</td>\n",
       "      <td>107</td>\n",
       "      <td>1219</td>\n",
       "      <td>1215</td>\n",
       "    </tr>\n",
       "    <tr>\n",
       "      <th>drinks</th>\n",
       "      <td>1137</td>\n",
       "      <td>1042</td>\n",
       "      <td>5821</td>\n",
       "      <td>702</td>\n",
       "      <td>1024</td>\n",
       "    </tr>\n",
       "    <tr>\n",
       "      <th>fruit</th>\n",
       "      <td>2801</td>\n",
       "      <td>890</td>\n",
       "      <td>856</td>\n",
       "      <td>7588</td>\n",
       "      <td>573</td>\n",
       "    </tr>\n",
       "    <tr>\n",
       "      <th>spices</th>\n",
       "      <td>1346</td>\n",
       "      <td>917</td>\n",
       "      <td>846</td>\n",
       "      <td>644</td>\n",
       "      <td>2525</td>\n",
       "    </tr>\n",
       "  </tbody>\n",
       "</table>\n",
       "</div>"
      ],
      "text/plain": [
       "location  checkout  dairy  drinks  fruit  spices\n",
       "after                                           \n",
       "checkout         0   1825    2096   2555     941\n",
       "dairy         2132  13100     107   1219    1215\n",
       "drinks        1137   1042    5821    702    1024\n",
       "fruit         2801    890     856   7588     573\n",
       "spices        1346    917     846    644    2525"
      ]
     },
     "execution_count": 27,
     "metadata": {},
     "output_type": "execute_result"
    }
   ],
   "source": [
    "pd.crosstab(df_full['after'], df_full['location'])#.to_csv('crosstab.csv') # counts"
   ]
  },
  {
   "cell_type": "code",
   "execution_count": 29,
   "id": "027f1810",
   "metadata": {},
   "outputs": [],
   "source": [
    "ct_pro= pd.crosstab(df_full['after'], df_full['location'], normalize=1) # try 0 and 1\n",
    "\n",
    "ct_pro['checkout'] = [1.0, 0.0, 0.0, 0.0, 0.0]\n",
    "# make sure that for each 'before' state the numbers sum up to 1.0"
   ]
  },
  {
   "cell_type": "code",
   "execution_count": 34,
   "id": "7f164487",
   "metadata": {},
   "outputs": [],
   "source": [
    "ct_pro.to_csv('./tr_prob.csv')"
   ]
  },
  {
   "cell_type": "code",
   "execution_count": null,
   "id": "fb7181ab",
   "metadata": {},
   "outputs": [],
   "source": []
  }
 ],
 "metadata": {
  "kernelspec": {
   "display_name": "Python 3",
   "language": "python",
   "name": "python3"
  },
  "language_info": {
   "codemirror_mode": {
    "name": "ipython",
    "version": 3
   },
   "file_extension": ".py",
   "mimetype": "text/x-python",
   "name": "python",
   "nbconvert_exporter": "python",
   "pygments_lexer": "ipython3",
   "version": "3.8.8"
  }
 },
 "nbformat": 4,
 "nbformat_minor": 5
}
